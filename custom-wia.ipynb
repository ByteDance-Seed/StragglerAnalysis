{
 "cells": [
  {
   "cell_type": "code",
   "execution_count": 1,
   "metadata": {},
   "outputs": [
    {
     "name": "stdout",
     "output_type": "stream",
     "text": [
      "Dump original timeline. Can visualize with https://ui.perfetto.dev/\n",
      "Dumping to ./logs/timeline-ori.json.gz\n"
     ]
    }
   ],
   "source": [
    "import functools\n",
    "import pandas as pd\n",
    "import pickle\n",
    "from analyzer.analysis_util import get_step_time\n",
    "from analyzer.metatypes import OpType\n",
    "from analyzer.simulator import simulate\n",
    "from analyzer.to_timeline import dump_timeline\n",
    "\n",
    "# Make sure you have completed the step 2 in README or \n",
    "# run `python ./analyzer/wia.py --metadata ./data/meta-ST.yaml --trace ./data/trace-ST.parquet --dump-dir ./logs/case-study-analysis --root ./logs/case-study-analysis` \n",
    "# before running this script.\n",
    "\n",
    "\n",
    "df_ori = pd.read_parquet('./logs/case-study-analysis/dataframe/ST-0-no-delay.parquet')\n",
    "step_time_ori = get_step_time(df_ori)\n",
    "with open('./logs/case-study-analysis/dependency_model/ST-0.pkl', 'rb') as f:\n",
    "    dependency_model = pickle.load(f)\n",
    "dep_on, comm_groups, op2gid, need_dp_sync = dependency_model\n",
    "\n",
    "sim_func = functools.partial(simulate,\n",
    "                                dep_on,\n",
    "                                comm_groups,\n",
    "                                op2gid,\n",
    "                                need_dp_sync,\n",
    "                                step_starts=df_ori.groupby('step')['start_ts'].min(),\n",
    "                                inplace=True)\n",
    "print(\"Dump original timeline. Can visualize with https://ui.perfetto.dev/\")\n",
    "dump_timeline(f'./logs/timeline-ori.json.gz',\n",
    "                df_ori,\n",
    "                0,\n",
    "                999999,\n",
    "                reset_step_start=True)"
   ]
  },
  {
   "cell_type": "code",
   "execution_count": 2,
   "metadata": {},
   "outputs": [
    {
     "name": "stdout",
     "output_type": "stream",
     "text": [
      "What-if experiment 1: setting all PP-comm time to 0 leads to 1.0012516774513014X speedup\n",
      "Dumping to ./logs/timeline-what-if-exp1.json.gz\n"
     ]
    }
   ],
   "source": [
    "# what-if experiment 1: setting all PP-comm time to 0\n",
    "\n",
    "df_new = df_ori.copy()\n",
    "df_new.loc[df_new.optype.isin(OpType.p2p_optypes()), 'transfer_duration'] = 0\n",
    "df_new, step_time_new = sim_func(df_new)\n",
    "print('What-if experiment 1: setting all PP-comm time to 0 leads to {}X speedup'.format(\n",
    "    step_time_ori.step_time.mean() / step_time_new.step_time.mean()\n",
    "))\n",
    "dump_timeline(f'./logs/timeline-what-if-exp1.json.gz',\n",
    "                df_new,\n",
    "                0,\n",
    "                999999,\n",
    "                reset_step_start=True)\n"
   ]
  },
  {
   "cell_type": "code",
   "execution_count": 3,
   "metadata": {},
   "outputs": [
    {
     "name": "stdout",
     "output_type": "stream",
     "text": [
      "What-if experiment 2: setting all DP-comm time to 0 leads to 1.0392968710937196X speedup\n",
      "Dumping to ./logs/timeline-what-if-exp2.json.gz\n"
     ]
    }
   ],
   "source": [
    "# what-if experiment 2: setting all DP-comm time to 0\n",
    "\n",
    "df_new = df_ori.copy()\n",
    "df_new.loc[df_new.optype.isin(OpType.dp_comm_optypes()), 'transfer_duration'] = 0\n",
    "df_new, step_time_new = sim_func(df_new)\n",
    "print('What-if experiment 2: setting all DP-comm time to 0 leads to {}X speedup'.format(\n",
    "    step_time_ori.step_time.mean() / step_time_new.step_time.mean()\n",
    "))\n",
    "dump_timeline(f'./logs/timeline-what-if-exp2.json.gz',\n",
    "                df_new,\n",
    "                0,\n",
    "                999999,\n",
    "                reset_step_start=True)\n"
   ]
  }
 ],
 "metadata": {
  "kernelspec": {
   "display_name": "main",
   "language": "python",
   "name": "python3"
  },
  "language_info": {
   "codemirror_mode": {
    "name": "ipython",
    "version": 3
   },
   "file_extension": ".py",
   "mimetype": "text/x-python",
   "name": "python",
   "nbconvert_exporter": "python",
   "pygments_lexer": "ipython3",
   "version": "3.11.10"
  }
 },
 "nbformat": 4,
 "nbformat_minor": 2
}
